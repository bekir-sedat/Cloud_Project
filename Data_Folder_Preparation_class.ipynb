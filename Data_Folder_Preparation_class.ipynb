{
  "nbformat": 4,
  "nbformat_minor": 0,
  "metadata": {
    "colab": {
      "name": "Data_Folder_Preparation_class",
      "provenance": []
    },
    "kernelspec": {
      "name": "python3",
      "display_name": "Python 3"
    }
  },
  "cells": [
    {
      "cell_type": "code",
      "metadata": {
        "id": "Lk5DyiEBDubn",
        "colab_type": "code",
        "colab": {}
      },
      "source": [
        "class DataPreparation:\n",
        "  def __init__(self, \n",
        "               directory_of_train_images = 'none',\n",
        "               directory_of_train_masks = 'none', \n",
        "               target_image_size = (0,0),\n",
        "               target_new_folder = 'none'):\n",
        "    self.directory_of_train_images = directory_of_train_images\n",
        "    self.directory_of_train_masks = directory_of_train_masks\n",
        "    self.target_image_size = target_image_size\n",
        "    self.target_new_folder = target_new_folder\n",
        "    self.folders_list = []\n",
        "    self.createNewFolders(self.target_new_folder)\n",
        "\n",
        "    \n",
        "\n",
        "\n",
        "\n",
        "  def createNewFolders(self,target_new_folder):\n",
        "    if(os.path.exists(target_new_folder)):\n",
        "      print('Folder already exists')\n",
        "      return\n",
        "    else:\n",
        "      dir_train_images = target_new_folder+'/'+str(self.target_image_size[0])+'__'+str(self.target_image_size[1])+'/train/'+'images'\n",
        "      dir_train_masks = target_new_folder+'/'+str(self.target_image_size[0])+'__'+str(self.target_image_size[1])+'/train/'+'masks'\n",
        "\n",
        "      dir_validation_images = target_new_folder+'/'+str(self.target_image_size[0])+'__'+str(self.target_image_size[1])+'/validation/'+'images'\n",
        "      dir_validation_masks = target_new_folder+'/'+str(self.target_image_size[0])+'__'+str(self.target_image_size[1])+'/validation/'+'masks'\n",
        "\n",
        "      self.folders_list.append(dir_train_images)\n",
        "      self.folders_list.append(dir_train_masks)\n",
        "      self.folders_list.append(dir_validation_images)\n",
        "      self.folders_list.append(dir_validation_masks)\n",
        "\n",
        "      os.makedirs(target_new_folder) \n",
        "      os.makedirs(dir_train_images)\n",
        "      os.makedirs(dir_train_masks)\n",
        "      os.makedirs(dir_validation_images)\n",
        "      os.makedirs(dir_validation_masks) \n",
        "\n",
        "      for i in range(len(self.folders_list)):\n",
        "        print(self.folders_list[i], \" \")\n",
        "\n",
        "\n",
        "\n",
        "\n",
        "  def getFolderList(self):\n",
        "    return self.folders_list"
      ],
      "execution_count": 0,
      "outputs": []
    },
    {
      "cell_type": "code",
      "metadata": {
        "id": "pny_Qv8ibTTG",
        "colab_type": "code",
        "colab": {}
      },
      "source": [
        "from google.colab import drive\n",
        "drive.mount('/content/gdrive')"
      ],
      "execution_count": 0,
      "outputs": []
    },
    {
      "cell_type": "code",
      "metadata": {
        "id": "LPtPZc1PbrXk",
        "colab_type": "code",
        "colab": {}
      },
      "source": [
        "new_folder = '/content/gdrive/My Drive/Cloud/data3'"
      ],
      "execution_count": 0,
      "outputs": []
    },
    {
      "cell_type": "code",
      "metadata": {
        "id": "9SEiwBzbITon",
        "colab_type": "code",
        "outputId": "b2bede7b-0ce4-4907-bf38-8da6a6cf6178",
        "colab": {
          "base_uri": "https://localhost:8080/",
          "height": 34
        }
      },
      "source": [
        "import os\n",
        "data = DataPreparation(target_new_folder = new_folder, target_image_size=(320,512))"
      ],
      "execution_count": 0,
      "outputs": [
        {
          "output_type": "stream",
          "text": [
            "Folder already exists\n"
          ],
          "name": "stdout"
        }
      ]
    },
    {
      "cell_type": "code",
      "metadata": {
        "id": "FL86rzqgjzEc",
        "colab_type": "code",
        "outputId": "2b925841-3437-441a-fa93-764b29a6fcca",
        "colab": {
          "base_uri": "https://localhost:8080/",
          "height": 34
        }
      },
      "source": [
        "a = (7,8)\n",
        "a[1]"
      ],
      "execution_count": 0,
      "outputs": [
        {
          "output_type": "execute_result",
          "data": {
            "text/plain": [
              "8"
            ]
          },
          "metadata": {
            "tags": []
          },
          "execution_count": 44
        }
      ]
    }
  ]
}