{
  "nbformat": 4,
  "nbformat_minor": 0,
  "metadata": {
    "colab": {
      "name": "Data_Folder_Preparation_class",
      "provenance": [],
      "include_colab_link": true
    },
    "kernelspec": {
      "name": "python3",
      "display_name": "Python 3"
    }
  },
  "cells": [
    {
      "cell_type": "markdown",
      "metadata": {
        "id": "view-in-github",
        "colab_type": "text"
      },
      "source": [
        "<a href=\"https://colab.research.google.com/github/bekir-sedat/Cloud_Project/blob/master/Data_Folder_Preparation_class.ipynb\" target=\"_parent\"><img src=\"https://colab.research.google.com/assets/colab-badge.svg\" alt=\"Open In Colab\"/></a>"
      ]
    },
    {
      "cell_type": "code",
      "metadata": {
        "id": "Lk5DyiEBDubn",
        "colab_type": "code",
        "colab": {}
      },
      "source": [
        "class DataPreparation:\n",
        "  def __init__(self, \n",
        "               directory_of_train_images = 'none',\n",
        "               directory_of_train_masks = 'none', \n",
        "               target_image_size = (0,0),\n",
        "               target_new_folder = 'none'):\n",
        "    self.directory_of_train_images = directory_of_train_images\n",
        "    self.directory_of_train_masks = directory_of_train_masks\n",
        "    self.target_image_size = target_image_size\n",
        "    self.target_new_folder = target_new_folder\n",
        "    self.folders_list = []\n",
        "    self.createNewFolders(self.target_new_folder)\n",
        "\n",
        "    \n",
        "\n",
        "\n",
        "\n",
        "  def createNewFolders(self,target_new_folder):\n",
        "    if(os.path.exists(target_new_folder)):\n",
        "      print('Folder already exists')\n",
        "      return\n",
        "    else:\n",
        "      dir_train_images = target_new_folder+'/'+str(self.target_image_size[0])+'__'+str(self.target_image_size[1])+'/train/'+'images'\n",
        "      dir_train_masks = target_new_folder+'/'+str(self.target_image_size[0])+'__'+str(self.target_image_size[1])+'/train/'+'masks'\n",
        "\n",
        "      dir_validation_images = target_new_folder+'/'+str(self.target_image_size[0])+'__'+str(self.target_image_size[1])+'/validation/'+'images'\n",
        "      dir_validation_masks = target_new_folder+'/'+str(self.target_image_size[0])+'__'+str(self.target_image_size[1])+'/validation/'+'masks'\n",
        "\n",
        "      self.folders_list.append(dir_train_images)\n",
        "      self.folders_list.append(dir_train_masks)\n",
        "      self.folders_list.append(dir_validation_images)\n",
        "      self.folders_list.append(dir_validation_masks)\n",
        "\n",
        "      os.makedirs(target_new_folder) \n",
        "      os.makedirs(dir_train_images)\n",
        "      os.makedirs(dir_train_masks)\n",
        "      os.makedirs(dir_validation_images)\n",
        "      os.makedirs(dir_validation_masks) \n",
        "\n",
        "      for i in range(len(self.folders_list)):\n",
        "        print(self.folders_list[i], \" \")\n",
        "\n",
        "\n",
        "\n",
        "\n",
        "  def getFolderList(self):\n",
        "    return self.folders_list"
      ],
      "execution_count": 0,
      "outputs": []
    },
    {
      "cell_type": "code",
      "metadata": {
        "colab_type": "code",
        "id": "amWw13UFa0p6",
        "colab": {}
      },
      "source": [
        "from google.colab import drive\n",
        "drive.mount('/content/gdrive')"
      ],
      "execution_count": 0,
      "outputs": []
    },
    {
      "cell_type": "code",
      "metadata": {
        "colab_type": "code",
        "id": "fcHLllqIa068",
        "colab": {}
      },
      "source": [
        "new_folder = '/content/gdrive/My Drive/Cloud/data3'"
      ],
      "execution_count": 0,
      "outputs": []
    },
    {
      "cell_type": "code",
      "metadata": {
        "colab_type": "code",
        "id": "RXkjD94ua1gN",
        "colab": {}
      },
      "source": [
        "import os\n",
        "data = DataPreparation(target_new_folder = new_folder, target_image_size=(320,512))"
      ],
      "execution_count": 0,
      "outputs": []
    }
  ]
}